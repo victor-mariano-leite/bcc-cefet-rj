{
 "cells": [
  {
   "cell_type": "markdown",
   "metadata": {},
   "source": [
    "# Revisão - Básico de C++ e C"
   ]
  },
  {
   "cell_type": "markdown",
   "metadata": {},
   "source": [
    "## 1. Hello World"
   ]
  },
  {
   "cell_type": "code",
   "execution_count": null,
   "metadata": {},
   "outputs": [],
   "source": [
    "#include <iostream>\n",
    "#include <stdio.h>\n",
    "#include <stdlib.h>\n",
    "\n",
    "int main(){\n",
    "\n",
    "    printf(\"Hello World\");\n",
    "\n",
    "    system(\"pause\");\n",
    "    \n",
    "    return 0;\n",
    "    \n",
    "}"
   ]
  },
  {
   "cell_type": "markdown",
   "metadata": {},
   "source": [
    "    \n",
    "#### 1.1. Função principal, main()\n",
    "\n",
    "- Função **main()** retorna um número inteiro, função main normalmente é a\n",
    "    principal função do programa, que é compilada centralmente.\n",
    "    \n",
    "#### 1.2. Imprimindo uma string\n",
    "\n",
    "- Função **printf(argumento)** com o argumento \"Hello World\", mostra na tela a string Hello World,\n",
    "    ela pertece a biblioteca stdio.h.\n",
    "    \n",
    "#### 1.3. Pausando a função \n",
    "\n",
    "- Função [system(argumento) com o argumento \"pause\"](https://stackoverflow.com/questions/1107705/systempause-why-is-it-wrong) para o programa aonde está, pertence a biblioteca stdlib.h.\n",
    " \n",
    "    "
   ]
  },
  {
   "cell_type": "markdown",
   "metadata": {},
   "source": [
    "## 2. Variáveis Inteiras"
   ]
  },
  {
   "cell_type": "code",
   "execution_count": null,
   "metadata": {},
   "outputs": [],
   "source": [
    "#include <stdio.h>\n",
    "#include <stdlib.h>\n",
    "\n",
    "int main(){\n",
    "    \n",
    "    /* Definindo uma variável do tipo inteira, ou seja primeiro você define o domínio\n",
    "    da variável, para depois associar a ela um valor. */\n",
    "    \n",
    "    int a = 5; \n",
    "    \n",
    "    // Imprime a variável \n",
    "    \n",
    "    printf(\"\\n%d\\n\"; a);\n",
    "    \n",
    "    // Lendo um valor\n",
    "    \n",
    "    scanf(\"\\n %d \\n\", &a);\n",
    "    \n",
    "    system(\"pause\");\n",
    "    \n",
    "    return 0;\n",
    "    \n",
    "}"
   ]
  },
  {
   "cell_type": "markdown",
   "metadata": {},
   "source": [
    "#### 2.1. Definindo uma variável\n",
    "\n",
    "- Para usar uma variável, é preciso definir o domínio da variável dela, ou seja, definir quantos bits de memória ela ocupa, locais viáveis de onde ela pode ser armazenada em baixo nível. No caso de a no exemplo acima, pretendiamos associar um valor a ela do número inteiro 5, logo o domínio é dos inteiros, o int. \n",
    "\n",
    "#### 2.2. Imprimindo uma variável \n",
    "\n",
    "- Para imprimir com a função **printf()** uma outra coisa que não seja só uma string, usamos um recurso similar ao método **format()** da classe de strings do Python. Em Python temos uma string **\"Hello Worl{}\"** e queremos completar com d, usamos **\"Hello Worl{}\".format(\"d\")**, para inteiros **\"I have {} friends\".format(amigos)**, sendo amigos a variável inteira que corresponde ao número de amigos de alguém.\n",
    "  \n",
    "  Em **C++**, ao invés de usar o método **format**, dentro da função **printf()** podemos usar o que seria análogo ao **{}** que para INTEIROS seria ***%d***, ou seja **printf(\"I have %d friends\", a)**, em Python seria **print( \"I have {} friends\".format(a) )**.\n",
    "  \n",
    "  Convencionalmente, esse procedimento se chama **concatenação**.\n",
    "  \n",
    "#### 2.3. Lendo uma variável\n",
    "\n",
    "- Para ler, ou seja, associar a uma variável um valor através do teclado, mouse, ou qualquer outro periférico de input do usuário, usamos a função scanf().\n",
    "\n",
    "  Na função **scanf()** usamos como argumento elementos similares ao **printf()**, **scanf(\"%d\", &a)**, dado que **%d** se refere ao domínio dos inteiros para o compilador de C, temos que o input deve ser um número inteiro ou gerará um erro de compilação/sintaxe. A princípio, vemos que vamos associar o inteiro à variável,  mas a mesma tem um **&a** (chama-se e comercial ), antes dela, esse **&a** se refere a um endereço na memória RAM, ou seja, vamos identificar o espaço de memória que corresponnde à onde variável **a** está, e nele vamos associar um inteiro dentro desse espaço de memória.\n",
    "  \n",
    "  *OBS.: Não necessariamente esse espaço na memória corresponde ao endereço da letra a na memória, ou seja, o hexadecimal dela.*\n",
    "  \n",
    "#### 2.4. Pulando linhas  \n",
    "  \n",
    "- Quando o código é compilado, sempre que detecta **\\n** ele pula de linha, independente de estar dentro ou fora de uma string.\n",
    "\n"
   ]
  },
  {
   "cell_type": "markdown",
   "metadata": {},
   "source": [
    "## 3. Tipos de variáveis"
   ]
  },
  {
   "cell_type": "code",
   "execution_count": null,
   "metadata": {},
   "outputs": [],
   "source": [
    "#include <stdio.h>\n",
    "#include <stdlib.h>\n",
    "#include <stdbool.h>\n",
    "\n",
    "int main(){\n",
    "    \n",
    "    //Definindo a variável\n",
    "    int a;\n",
    "    float b;\n",
    "    char c;\n",
    "    bool d;\n",
    "    \n",
    "    //Passando o valor\n",
    "    a = 5;\n",
    "    b = 2.5;\n",
    "    c = 'a';\n",
    "    d = true; //True == 1, False == 0\n",
    "    \n",
    "    //Imprimindo a variável\n",
    "    printf(\"%d\", a);\n",
    "    printf(\"%.2f\", b);\n",
    "    printf(\" %c\", c);\n",
    "    printf(\"%d\", d); //false e true estão associados aos inteiros 0 e 1\n",
    "    \n",
    "    //Lendo valores\n",
    "    scanf(\"%d\", &a);\n",
    "    scanf(\"%.2f\", &b);\n",
    "    scanf(\" %c\", &c);\n",
    "    scanf(\"%d\",&d);\n",
    "    \n",
    "    //Imprimindo a variável\n",
    "    printf(\"%d\", a);\n",
    "    printf(\"%.2f\", b);\n",
    "    printf(\" %c\", c)\n",
    "    printf(\"%d\", d)\n",
    "    \n",
    "    system(\"pause\");\n",
    "    \n",
    "    return 0;\n",
    "}"
   ]
  },
  {
   "cell_type": "markdown",
   "metadata": {},
   "source": [
    "### 3.1. Domínio dos inteiros, floats ou reais, char de caracteres e bool de valores booleanos\n",
    "\n",
    "- Declarando/Definindo a representação simbólica da variável:\n",
    "\n",
    "> int nome_da_variável_inteira;\n",
    "\n",
    "> float nome_da_variável_real;\n",
    "\n",
    "> char nome_da_variável_de_caractere;\n",
    "\n",
    "> bool nome_da_variável_booleana;\n",
    "\n",
    "- Passando o valor para a variável de um dos domínios definidos:\n",
    "\n",
    "> nome_da_variável = valor_associado_a_variável;\n",
    "\n",
    "- Imprimindo a variável, ou seja, mostrando ela na tela:\n",
    "\n",
    ">Para **inteiros** envolve aplicar como argumentos na função **printf()**, primeiro a string onde a variável vai estar dentro, onde **%d** representaria aonde a variável ficará, e como segundo argumento a representação simbólica da variável: **printf(\"%d\", nome_da_variável).**\n",
    "\n",
    ">Para **floats** usamos **%f** no lugar de **%d**, sendo que, podemos restringir as casas decimais, se quisermos só duas fazemos **%.2f**, se quisermos cinco, fazemos **%.5f**.\n",
    "\n",
    ">Para **char** usa-se **%c**, detalhe que, entre as aspas, no caso de definir chars, imprimir ou ler, temos que ter um espaço entre o começo da string e o char no mínimo, assim **(\" %c\", caractere)**."
   ]
  },
  {
   "cell_type": "markdown",
   "metadata": {},
   "source": [
    "## 4. Operações matemáticas básicas"
   ]
  },
  {
   "cell_type": "code",
   "execution_count": null,
   "metadata": {},
   "outputs": [],
   "source": [
    "#include <stdio.h>\n",
    "#include <stdlib.h>\n",
    "\n",
    "int main(){\n",
    "\n",
    "   //Definindo variáveis\n",
    "   int a = 5, b = 4;\n",
    "   \n",
    "   //Soma\n",
    "   printf(\"Somando %d com %d, dá %d\", a, b, a + b);\n",
    "   \n",
    "   //Subtração\n",
    "   printf(\"Subtraindo %d com %d, dá %d\", a, b, a - b);\n",
    "   \n",
    "   //Multiplicação\n",
    "   printf(\"Multiplicando %d com %d, dá %d\", a, b, a * b);\n",
    "   \n",
    "   //Divisão\n",
    "   printf(\"Divisão %d com %d, dá %d\", a, b, a / b);\n",
    "   \n",
    "   //Resto da divisão\n",
    "   printf(\"Restro da divisão de %d por %d, dá %d\", a, b, a // b);\n",
    "   \n",
    "   //Valor absoluto ( valor inteiro )\n",
    "   printf(\"O módulo ou valor absoluto de %d é %d\", a, abs(a));\n",
    "   \n",
    "   system(\"pause\");\n",
    "   \n",
    "   return 0;\n",
    "   \n",
    "}"
   ]
  },
  {
   "cell_type": "markdown",
   "metadata": {},
   "source": [
    "## 5. Condicionais Simples e Compostas"
   ]
  },
  {
   "cell_type": "code",
   "execution_count": null,
   "metadata": {},
   "outputs": [],
   "source": [
    "#include <stdlib.h>\n",
    "#include <stdio.h>\n",
    "\n",
    "int main(){\n",
    "    \n",
    "    //Definindo variáveis\n",
    "    int a = 5;\n",
    "    \n",
    "    //Condicional simples\n",
    "    if(a == 5){\n",
    "       printf(\"A variável a é igual a %d .\", a);\n",
    "    }\n",
    "    \n",
    "    //Número par ou é ímpar? ( Condicional composta )\n",
    "    \n",
    "    if( a % 2 == 1 ){\n",
    "        printf(\"\\n A variável é ímpar.\");\n",
    "    }\n",
    "    else{\n",
    "        printf(\"\\n A variável é par.\");\n",
    "    }\n",
    "    \n",
    "    /* Outro tipo de condicional composta ( sempre que possível use else if,\n",
    "    else por que economiza memória RAM ) */\n",
    "    \n",
    "    if (a == 1){\n",
    "        printf(\"A variável é igual a 1.\");\n",
    "    }else if (a == 2){\n",
    "        printf(\"A variável é igual a 2.\");\n",
    "    }else{\n",
    "        printf(\"A variável é todas menos 1 ou 2.\");\n",
    "    }\n",
    "    \n",
    "    system(\"pause\");\n",
    "    \n",
    "    return 0;\n",
    "}"
   ]
  },
  {
   "cell_type": "markdown",
   "metadata": {},
   "source": [
    "## 6. Condicionais matemáticas"
   ]
  },
  {
   "cell_type": "code",
   "execution_count": null,
   "metadata": {},
   "outputs": [],
   "source": [
    "#include <stdio.h>\n",
    "#include <stdlib.h>\n",
    "\n",
    "int main(){\n",
    "    \n",
    "    //Declarando as variáveis\n",
    "    int a = 10, b = 7, c = 14;\n",
    "    \n",
    "    //Maior e maior ou igual\n",
    "    if( a > 2 ){\n",
    "        printf(\"A variável a é maior que 2\");\n",
    "    }else if( a >= 2 ){\n",
    "        printf(\"A variável a é maior ou igual a 2\");\n",
    "    }\n",
    "    \n",
    "    //Menor e menor ou igual\n",
    "    if( b < 10 ){\n",
    "        printf(\"A variável b é menor que 10.\");\n",
    "    }else if( b <= 10){\n",
    "        printf(\"A variável b é menor ou igual a 10.\");\n",
    "    }\n",
    "    \n",
    "    //Diferente\n",
    "    if(b != c){\n",
    "        printf(\"A variável b é diferente da variável c.\");\n",
    "    }\n",
    "    \n",
    "    system(\"pause\");\n",
    "    \n",
    "    return 0;\n",
    "    \n",
    "}"
   ]
  },
  {
   "cell_type": "markdown",
   "metadata": {},
   "source": [
    "## 7. Condicionais booleanas"
   ]
  },
  {
   "cell_type": "code",
   "execution_count": null,
   "metadata": {},
   "outputs": [],
   "source": [
    "#include <stdio.h>\n",
    "#include <stdlib.h>\n",
    "\n",
    "int main(){\n",
    "\n",
    "    bool a = true, b = false;\n",
    "    \n",
    "    /* Ou seja, em circunstâncias de condicionais, a sempre vai corresponder\n",
    "    ao true, ou seja, a condicional if vai ocorrer se o booleano dentro dela\n",
    "    for true, e vai pra próxima se for false, pulando a inicial. */\n",
    "}"
   ]
  },
  {
   "cell_type": "markdown",
   "metadata": {},
   "source": [
    "## 8. Tabela ASCII e condicionais char"
   ]
  },
  {
   "cell_type": "code",
   "execution_count": null,
   "metadata": {},
   "outputs": [],
   "source": [
    "#include <stdio.h>\n",
    "#include <stdlib.h>\n",
    "\n",
    "int main(){\n",
    "    \n",
    "    // Definindo a variável\n",
    "    char a = 'x';\n",
    "    \n",
    "    if(a == 'x'){\n",
    "        printf(\"A letra é  %c\", a);\n",
    "    }\n",
    "    \n",
    "    printf(\"O código da letra, segundo a tabela ASCII, ou seja,\n",
    "    a referência númerica da letra é %d\", a);\n",
    "    \n",
    "    system(\"pause\");\n",
    "    \n",
    "    return 0;\n",
    "}"
   ]
  },
  {
   "cell_type": "markdown",
   "metadata": {},
   "source": [
    "## 9. Concatenando condicionais"
   ]
  },
  {
   "cell_type": "code",
   "execution_count": null,
   "metadata": {},
   "outputs": [],
   "source": [
    "#include <stdlib.h>\n",
    "#include <stdio.h>\n",
    "\n",
    "int main(){\n",
    "    \n",
    "    //Declarando a variável\n",
    "    char a = 'w', b = 'q';\n",
    "    int p = 10, q = 20;\n",
    "    \n",
    "    // Para a concatenação lógica E ( && )\n",
    "    if( p >= 9 && b == 'q' ){\n",
    "        printf(\"Está certo.\");\n",
    "    }\n",
    "    \n",
    "    // Para a concatenação lógica OU ( || )\n",
    "    if( q <= 100 || a == 'p'){\n",
    "        printf(\"\\n Está certo\\n\");\n",
    "    }\n",
    "    \n",
    "    system(\"pause\");\n",
    "    \n",
    "    return 0;\n",
    "    \n",
    "}"
   ]
  },
  {
   "cell_type": "markdown",
   "metadata": {},
   "source": [
    "## 10. Alocação Dinâmica para vetores"
   ]
  },
  {
   "cell_type": "code",
   "execution_count": null,
   "metadata": {},
   "outputs": [],
   "source": [
    "#include <stdlib.h>\n",
    "#include <stdio.h>\n",
    "\n",
    "int* alocaVetor( int tam ){\n",
    "    \n",
    "    // É criado um ponteiro auxiliar\n",
    "    int *aux;\n",
    "    \n",
    "    /* Alocação dinâmica de memória, sizeof(tipo), tipo do vetor,\n",
    "    pode ser char para string */\n",
    "    \n",
    "    /* O (int*) seria um casting que levaria o malloc a retornar um ponteiro\n",
    "    a esses espaços de memória alocados. Malloc aloca na memória bytes adjacentes. */\n",
    "    \n",
    "    aux = (int*) malloc( sizeof(int)*tam );\n",
    "    \n",
    "    return aux;\n",
    "    \n",
    "}\n",
    "\n",
    "int main(){\n",
    "    \n",
    "    // Declarando um ponteiro\n",
    "    int *v, tamanho;\n",
    "    \n",
    "    // Lendo o tamanho do vetor\n",
    "    scanf(\"Digite um tamanho para o vetor: %d\", tamanho);\n",
    "    \n",
    "    // O ponteiro recebe o endereço de memória para o vetor\n",
    "    vetor = alocaVetor(tamanho);\n",
    "    \n",
    "    vetor[0] = 10;\n",
    "    vetor[1] = 5;\n",
    "    \n",
    "    // (...) E isso vai depender do tamanho escolhido\n",
    "    \n",
    "    for( int i = 0; i < tamanho; i++){\n",
    "        scanf(\"%d\", &vetor[i]);\n",
    "    }\n",
    "    \n",
    "    return 0;\n",
    "}"
   ]
  },
  {
   "cell_type": "markdown",
   "metadata": {},
   "source": [
    "Querer criar um vetor durante a execução do programa, ao invés de criar um vetor/lista estática.\n",
    "\n",
    "O ponteiro vai ser direcionado ao primeiro endereço de memória do vetor alocado.\n"
   ]
  },
  {
   "cell_type": "markdown",
   "metadata": {},
   "source": [
    "### 11. Alocação dinâmica de vetores em C++"
   ]
  },
  {
   "cell_type": "code",
   "execution_count": null,
   "metadata": {},
   "outputs": [],
   "source": [
    "#include <stdlib.h>\n",
    "#include <stdio.h>\n",
    "#include <new> // aonde está a função new\n",
    "\n",
    "int main(){\n",
    "    \n",
    "    int tamanho, cont;\n",
    "    \n",
    "    printf(\" Digite o tamanho: \");\n",
    "    scanf(\"%d\", &tamanho);\n",
    "    \n",
    "    // Criando um ponteiro que recebe o novo vetor vazio do tipo int\n",
    "    int *vetor = new int(tamanho);\n",
    "    \n",
    "    // Imprimindo valores\n",
    "    for ( cont = 0; cont < tamanho; cont++){\n",
    "        vetor[cont] = cont;\n",
    "        printf(\"\\n%d\", vetor[cont]);\n",
    "    }\n",
    "    \n",
    "    free( vetor ); // libera o espaco de memoria alocado para vetor, termina ele\n",
    "    \n",
    "    return 0;\n",
    "    \n",
    "}"
   ]
  },
  {
   "cell_type": "markdown",
   "metadata": {},
   "source": [
    "### 12. Alocação dinâmica de matrizes em C"
   ]
  },
  {
   "cell_type": "code",
   "execution_count": null,
   "metadata": {},
   "outputs": [],
   "source": [
    "#include <stdlib.h>\n",
    "#include <stdio.h>\n",
    "\n",
    "int main(){\n",
    "\n",
    "    // Um array de ponteiros que apontam para outros vetores, seria definida uma matriz\n",
    "    \n",
    "    int linhas = 3, colunas = 5;\n",
    "    \n",
    "    // Ponteiro para ponteiro ( declarei um ponteiro para um vetor de ponteiros )\n",
    "    int *(*matriz);\n",
    "    \n",
    "    // Alocando as linhas\n",
    "    matriz = (int **) malloc( linhas * sizeof( int *));\n",
    "    \n",
    "    // alocando memória para as colunas de cada linha\n",
    "    for (int i = 0; i < linhas; i++){\n",
    "        matriz[i] = (int *) malloc( colunas * sizeof(int) );\n",
    "    }\n",
    "    \n",
    "    for ( i = 0; i < linhas; i++){\n",
    "        for ( int j = 0; j < colunas; j++){\n",
    "            matriz[i][j] = i;\n",
    "            printf(\"%d \", matriz[i][j])\n",
    "        }\n",
    "        printf(\"\\n\");\n",
    "    }\n",
    "    \n",
    "    free(matriz);\n",
    "    \n",
    "    return 0;\n",
    "}"
   ]
  },
  {
   "cell_type": "markdown",
   "metadata": {},
   "source": [
    "### 13.0.0. Structs / Estruturas ( algo similar a objetos, mas não exatamente )"
   ]
  },
  {
   "cell_type": "code",
   "execution_count": null,
   "metadata": {},
   "outputs": [],
   "source": [
    "#include <stdlib.h>\n",
    "#include <stdio.h>\n",
    "#include <string.h>\n",
    "\n",
    "struct palavra{\n",
    "    int ordem;\n",
    "    char letra;\n",
    "    char texto[255];\n",
    "};\n",
    "\n",
    "int main(){\n",
    "    \n",
    "    /* Criando uma palavra do tipo struct, ou seja, struct se refere ao tipo,\n",
    "    um domínio em bytes na memória para a estrutura escolhida */\n",
    "    \n",
    "    struct palavra primeiraPalavra;\n",
    "    \n",
    "    // Como usamos em métodos, para acessar um campo do struct bota struct(.propriedade)\n",
    "    \n",
    "    primeiraPalavra.ordem = 0;\n",
    "    primeiraPalavra.letra = 'c';\n",
    "    strcpy(primeiraPalavra.texto, \"palavrinha\");\n",
    "    \n",
    "    printf(\"Ordem: %d.\\nPrimeira Palavra: %c.\\nPalavra: %s\", primeiraPalavra.ordem,\n",
    "    primeiraPalavra.letra, primeiraPalavra.texto);\n",
    "    \n",
    "    free(palavra.texto);\n",
    "    \n",
    "    return 0;\n",
    "    \n",
    "}"
   ]
  },
  {
   "cell_type": "markdown",
   "metadata": {},
   "source": [
    "### 13.0.1. Lista de structs"
   ]
  },
  {
   "cell_type": "code",
   "execution_count": null,
   "metadata": {},
   "outputs": [],
   "source": [
    "#include <stdlib.h>\n",
    "#include <stdio.h>\n",
    "#include <string.h>\n",
    "\n",
    "struct palavra{\n",
    "    int ordem;\n",
    "    char letraInicial;\n",
    "    char palavrinha[255];\n",
    "}\n",
    "\n",
    "int main(){\n",
    "    \n",
    "    struct palavra palavras[3];\n",
    "    \n",
    "    palavras[0].ordem = 0;\n",
    "    palavras[1].ordem = 1;\n",
    "    palavras[2].ordem = 2;\n",
    "    palavras[0].letra = 'd';\n",
    "    palavras[1].letra = 'd';\n",
    "    palavras[2].letra = 'd';\n",
    "    \n",
    "    free(palavras);\n",
    "    \n",
    "    return 0;\n",
    "}"
   ]
  },
  {
   "cell_type": "markdown",
   "metadata": {},
   "source": [
    "### 13.1.0 Struct dentro de um struct ( aninhamento de structs )"
   ]
  },
  {
   "cell_type": "code",
   "execution_count": null,
   "metadata": {},
   "outputs": [],
   "source": [
    "#include <stdlib.h>\n",
    "#include <stdio.h>\n",
    "\n",
    "// dando nome ao struct para simplificar o codigo typedef struct nome{} nome;\n",
    "\n",
    "typedef struct data{\n",
    "    int dia;\n",
    "    int mes;\n",
    "    int ano;\n",
    "} data;\n",
    "\n",
    "typedef struct media{\n",
    "    int somaNotas;\n",
    "} media;\n",
    "\n",
    "typedef struct nota{\n",
    "    int p1;\n",
    "    int p2;\n",
    "    int p3;\n",
    "    int pf;\n",
    "} nota;\n",
    "\n",
    "struct Aluno{\n",
    "    int id;\n",
    "    data nascimento;\n",
    "    data ingressou;\n",
    "    media CR;\n",
    "}"
   ]
  },
  {
   "cell_type": "markdown",
   "metadata": {},
   "source": [
    "### 13.1.1 Structs em C++"
   ]
  },
  {
   "cell_type": "code",
   "execution_count": null,
   "metadata": {},
   "outputs": [],
   "source": [
    "#include <iostream>\n",
    "#include <stdlib.h>\n",
    "#include <string>\n",
    "#include <new>\n",
    "\n",
    "using namespace std;\n",
    "\n",
    "struct fruta{\n",
    "    string cor;\n",
    "    string nome;\n",
    "};\n",
    "\n",
    "int main (){\n",
    "    \n",
    "    fruta *primeiraFruta = new fruta;\n",
    "    \n",
    "    primeiraFruta->cor = \"amarelo\";\n",
    "    primeiraFruta->nome = \"banana\";\n",
    "    \n",
    "    cout << \"\\nFruta: \" << primeiraFruta->nome << \"\\nCor: \" << primeiraFruta->cor;\n",
    "    \n",
    "    fruta *ponteiroListaDeFrutas = new fruta[2];\n",
    "    \n",
    "    ponteiroListaDeFrutas[0].cor = \"Vermelho\";\n",
    "    ponteiroListaDeFrutas[1].nome = \"Morango\";\n",
    "    ponteiroListaDeFrutas[0].cor = \"Verde\";\n",
    "    ponteiroListaDeFrutas[1].nome = \"Kiwi\";\n",
    "    \n",
    "    free(ponteiroListaDeFrutas);\n",
    "    \n",
    "    return 0;\n",
    "    \n",
    "} "
   ]
  },
  {
   "cell_type": "markdown",
   "metadata": {},
   "source": [
    "### 14. DEFINE como forma de economizar memória quando temos constantes a serem declaradas"
   ]
  },
  {
   "cell_type": "code",
   "execution_count": null,
   "metadata": {},
   "outputs": [],
   "source": [
    "#include <stdlib.h>\n",
    "#include <stdio.h>\n",
    "#define TAM 10\n",
    "\n",
    "/* definiu o tamanho como 10 para sempre., ou seja, esse valor nunca vai alterar\n",
    "então não precisa ser definido em uma variavel */"
   ]
  },
  {
   "cell_type": "markdown",
   "metadata": {},
   "source": [
    "### 15.0 Abrir e escrever em arquivos"
   ]
  },
  {
   "cell_type": "code",
   "execution_count": null,
   "metadata": {},
   "outputs": [],
   "source": [
    "#include <fstream>\n",
    "#include <string.h>\n",
    "#include <stdio.h>\n",
    "\n",
    "using namespace std;\n",
    "\n",
    "int main(){\n",
    "    // Cria o objeto de arquivo\n",
    "    ofstream arquivoDeSaida;\n",
    "    \n",
    "    //Abre o arquivo ou cria caso não exista\n",
    "    arquivoDeSaida.open(\"Texto.txt\", std::ios_base::app);\n",
    "    \n",
    "    //Escreve algo\n",
    "    arquivoDeSaida << \"Ola Mundo!\";\n",
    "    \n",
    "    // Fecha o arquivo\n",
    "    arquivoDeSaida.close();\n",
    "    \n",
    "    return 0;\n",
    "}"
   ]
  },
  {
   "cell_type": "markdown",
   "metadata": {},
   "source": [
    "### 15.1 Ler conteúdo de arquivos"
   ]
  },
  {
   "cell_type": "code",
   "execution_count": null,
   "metadata": {},
   "outputs": [],
   "source": [
    "#include <stdio.h>\n",
    "#include <stdlib.h>\n",
    "#include <fstream>\n",
    "#include <string>\n",
    "#include <iostream>\n",
    "\n",
    "using namespace std;\n",
    "\n",
    "int main(){\n",
    "    \n",
    "    //Cursor que irá percorrer cada letra do arquivo\n",
    "    int c;\n",
    "    \n",
    "    //Arquivo a ser lido, cria um ponteiro que vai apontar para o arquivo na memória\n",
    "    FILE *file; \n",
    "\n",
    "    //Abre o arquivo no diretório escolhido\n",
    "    file = fopen(\"Texto.txt\", \"r\");\n",
    "    \n",
    "    // Se o arquivo foi encontrado\n",
    "    if(file){\n",
    "        //Enquanto encontra letras, até o fim do arquivo\n",
    "        while ( (c= getc(file)) != EOF ){\n",
    "            printf(\"%c\", c);\n",
    "        }\n",
    "        fclose(file);\n",
    "    }\n",
    "\n",
    "\n",
    "}"
   ]
  }
 ],
 "metadata": {
  "kernelspec": {
   "display_name": "C++11",
   "language": "C++11",
   "name": "xeus-cling-cpp11"
  },
  "language_info": {
   "name": ""
  }
 },
 "nbformat": 4,
 "nbformat_minor": 2
}
