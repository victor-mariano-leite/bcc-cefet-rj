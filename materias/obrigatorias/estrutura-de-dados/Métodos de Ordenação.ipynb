{
 "cells": [
  {
   "cell_type": "markdown",
   "metadata": {},
   "source": [
    "## CEFET/RJ - Bacharelado em Ciências da Computação\n",
    "\n",
    "Professor(a): Myrna Amorin\n",
    "\n",
    "Curso: Estrutura de Dados - 2º Período\n",
    "\n",
    "Linguagem: C++ / C"
   ]
  },
  {
   "cell_type": "markdown",
   "metadata": {},
   "source": [
    "#### Programa do curso:\n",
    "\n",
    "    1. Algoritmos de Ordenação:\n",
    "\n",
    "       1.1. Bubble Sort\n",
    "       1.2. Selection Sort\n",
    "       1.3. Insertion Sort\n",
    "\n",
    "\n",
    "    2. Recursividade:\n",
    "\n",
    "       2.1. Torre de Hanói\n",
    "       2.2. Merge Sort\n",
    "       2.3. Quick Sort\n",
    "\n",
    "\n",
    "    3. Ponteiros e Variável Composta Heterogênea:\n",
    "\n",
    "       3.1. Struct \n",
    "       3.2. Registros\n",
    "   \n",
    "\n",
    "    4. Listas sequenciais:\n",
    "\n",
    "       4.1. Inserção de nós\n",
    "       4.2. Remoção de nós\n",
    "       4.3. Alteração de nós\n",
    "       4.4. Pilhas e filas \n",
    "   \n",
    "\n",
    "    5. Estruturas lineares dinâmicas:\n",
    "\n",
    "       5.1. Lista encadeada\n",
    "       5.2. Lista duplamente encadeada\n",
    "       5.3. Lista circular"
   ]
  },
  {
   "cell_type": "markdown",
   "metadata": {},
   "source": [
    "### 1ª Parte - Algoritmos de Ordenação\n",
    "\n",
    "> Define-se um algoritmo de ordenação como uma sequência de comandos, que dada uma sequência de elementos, os ordena crescentemente ou decrescentemente, de acordo com o tipo dos elementos."
   ]
  },
  {
   "cell_type": "markdown",
   "metadata": {},
   "source": [
    "#### 1.1. Bubble Sort - Ordenação por bolha:\n",
    "\n"
   ]
  },
  {
   "cell_type": "markdown",
   "metadata": {},
   "source": [
    "> Conceito: A ordenação por bolha é considerada uma das mais simples porém piores ordenações no sentido da complexidade do algoritmo para melhores e piores casos. O problema dele é que o melhor e o pior casos têm complexidade igual a O(n)."
   ]
  },
  {
   "cell_type": "code",
   "execution_count": null,
   "metadata": {},
   "outputs": [],
   "source": [
    "#include <iostream>\n",
    "#include <stdlib.h>\n",
    "\n",
    "using namespace std;\n",
    "\n",
    "void bubbleSort( int *A, int N ){\n",
    "    \n",
    "}\n"
   ]
  },
  {
   "cell_type": "code",
   "execution_count": null,
   "metadata": {},
   "outputs": [],
   "source": []
  }
 ],
 "metadata": {
  "kernelspec": {
   "display_name": "C++11",
   "language": "C++11",
   "name": "xeus-cling-cpp11"
  },
  "language_info": {
   "codemirror_mode": {
    "name": "ipython",
    "version": 3
   },
   "file_extension": ".py",
   "mimetype": "text/x-python",
   "name": "python",
   "nbconvert_exporter": "python",
   "pygments_lexer": "ipython3",
   "version": "3.6.4"
  }
 },
 "nbformat": 4,
 "nbformat_minor": 2
}
