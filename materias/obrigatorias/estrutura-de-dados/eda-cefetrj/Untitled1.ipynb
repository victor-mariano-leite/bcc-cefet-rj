{
 "cells": [
  {
   "cell_type": "code",
   "execution_count": 81,
   "metadata": {},
   "outputs": [],
   "source": [
    "from time import time\n",
    "from random import sample\n",
    "\n",
    "def insertionSort_1(A, tamanho):\n",
    "    for i in range(tamanho):\n",
    "        chave = A[i]\n",
    "        j = i - 1\n",
    "        for j in range(i-1,0,-1):\n",
    "            if ( chave < A[j] ):\n",
    "                A[j+1] = A[j]\n",
    "            if ( chave >= A[j-1] ):\n",
    "                A[j] = chave\n",
    "    return A_1\n",
    "\n",
    "def insertionSort_2(A, tamanho):\n",
    "    for i in range(tamanho):\n",
    "        chave = A[i]\n",
    "        j = i - 1\n",
    "        while (j>= 0 and A[j] > chave):\n",
    "            A[j+1] = A[j]\n",
    "            j = j - 1\n",
    "        A[j+1] = chave\n",
    "    return A_2"
   ]
  },
  {
   "cell_type": "code",
   "execution_count": 82,
   "metadata": {},
   "outputs": [],
   "source": [
    "A = sample(range(1000), 10) # primeiro argumento se chama população\n",
    "                            # segundo é o tamanho da amostra\n",
    "                            # a população sempre é uma lista, como range"
   ]
  },
  {
   "cell_type": "code",
   "execution_count": 83,
   "metadata": {},
   "outputs": [
    {
     "name": "stdout",
     "output_type": "stream",
     "text": [
      "[290, 510, 406, 305, 795, 951, 818, 790, 176, 993]\n"
     ]
    }
   ],
   "source": [
    "print(A)"
   ]
  },
  {
   "cell_type": "code",
   "execution_count": 84,
   "metadata": {},
   "outputs": [],
   "source": [
    "A_1 = A\n",
    "A_2 = A"
   ]
  },
  {
   "cell_type": "code",
   "execution_count": 85,
   "metadata": {},
   "outputs": [
    {
     "name": "stdout",
     "output_type": "stream",
     "text": [
      "[290, 993, 993, 993, 993, 993, 993, 993, 993, 993]\n",
      "0.00013303756713867188\n"
     ]
    }
   ],
   "source": [
    "inicio = time()\n",
    "A_1 = insertionSort_1(A_1, len(A_1))\n",
    "print(A_1)\n",
    "fim = time()\n",
    "print(fim - inicio)"
   ]
  },
  {
   "cell_type": "code",
   "execution_count": 70,
   "metadata": {},
   "outputs": [
    {
     "name": "stdout",
     "output_type": "stream",
     "text": [
      "[636, 783, 783, 783, 813, 941, 941, 941, 941, 941]\n",
      "0.0003829002380371094\n"
     ]
    }
   ],
   "source": [
    "inicio = time()\n",
    "A_2 = insertionSort_2(A_2, len(A_2))\n",
    "print(A_2)\n",
    "fim = time()\n",
    "print(fim - inicio)"
   ]
  },
  {
   "cell_type": "code",
   "execution_count": null,
   "metadata": {},
   "outputs": [],
   "source": []
  },
  {
   "cell_type": "code",
   "execution_count": null,
   "metadata": {},
   "outputs": [],
   "source": []
  },
  {
   "cell_type": "code",
   "execution_count": null,
   "metadata": {},
   "outputs": [],
   "source": []
  }
 ],
 "metadata": {
  "kernelspec": {
   "display_name": "Python 3",
   "language": "python",
   "name": "python3"
  },
  "language_info": {
   "codemirror_mode": {
    "name": "ipython",
    "version": 3
   },
   "file_extension": ".py",
   "mimetype": "text/x-python",
   "name": "python",
   "nbconvert_exporter": "python",
   "pygments_lexer": "ipython3",
   "version": "3.6.6"
  }
 },
 "nbformat": 4,
 "nbformat_minor": 2
}
