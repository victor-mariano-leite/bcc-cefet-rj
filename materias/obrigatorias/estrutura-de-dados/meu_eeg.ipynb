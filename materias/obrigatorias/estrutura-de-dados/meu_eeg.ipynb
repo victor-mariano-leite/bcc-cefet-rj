{
 "cells": [
  {
   "cell_type": "code",
   "execution_count": 40,
   "metadata": {},
   "outputs": [],
   "source": [
    "import numpy as np\n",
    "import pandas as pd\n",
    "\n",
    "hist = np.array([2, 2, 1, 3, 3, 3, 2, 2.2, 3, 3.1, 3, 2, 1.9, 3, 3, 2.5, 2, 3, 3, 2.8])"
   ]
  },
  {
   "cell_type": "code",
   "execution_count": 64,
   "metadata": {},
   "outputs": [
    {
     "name": "stdout",
     "output_type": "stream",
     "text": [
      "['f0', 'f1', 'f2', 'f3', 'f4', 'f5', 'f6', 'f7', 'f8', 'f9', 'f10', 'f11', 'f12', 'f13', 'f14', 'f15', 'f16', 'f17', 'f18', 'f19']\n",
      "[0, 1, 2, 3, 4, 5, 6, 7, 8, 9, 10, 11, 12, 13, 14, 15, 16, 17, 18, 19]\n"
     ]
    },
    {
     "data": {
      "text/plain": [
       "{0: 'f0',\n",
       " 1: 'f1',\n",
       " 2: 'f2',\n",
       " 3: 'f3',\n",
       " 4: 'f4',\n",
       " 5: 'f5',\n",
       " 6: 'f6',\n",
       " 7: 'f7',\n",
       " 8: 'f8',\n",
       " 9: 'f9',\n",
       " 10: 'f10',\n",
       " 11: 'f11',\n",
       " 12: 'f12',\n",
       " 13: 'f13',\n",
       " 14: 'f14',\n",
       " 15: 'f15',\n",
       " 16: 'f16',\n",
       " 17: 'f17',\n",
       " 18: 'f18',\n",
       " 19: 'f19'}"
      ]
     },
     "execution_count": 64,
     "metadata": {},
     "output_type": "execute_result"
    }
   ],
   "source": [
    "hist = hist*18.182\n",
    "\n",
    "print(['f{}'.format(i) for i in range(20)])\n",
    "print(list(range(20)))\n",
    "\n"
   ]
  },
  {
   "cell_type": "code",
   "execution_count": 54,
   "metadata": {},
   "outputs": [],
   "source": [
    "df = pd.DataFrame(hist)"
   ]
  },
  {
   "cell_type": "code",
   "execution_count": 68,
   "metadata": {},
   "outputs": [
    {
     "name": "stdout",
     "output_type": "stream",
     "text": [
      "      NaN      f1      f2      f3      f4      f5      f6       f7      f8  \\\n",
      "0  36.364  36.364  18.182  54.546  54.546  54.546  36.364  40.0004  54.546   \n",
      "\n",
      "        f9     f10     f11      f12     f13     f14     f15     f16     f17  \\\n",
      "0  56.3642  54.546  36.364  34.5458  54.546  54.546  45.455  36.364  54.546   \n",
      "\n",
      "      f18      f19  \n",
      "0  54.546  50.9096  \n"
     ]
    }
   ],
   "source": [
    "df.rename( index =  dict(zip(list(range(20)),['f{}'.format(i) for i in range(20)])), inplace = True )\n",
    "\n",
    "print(df.transpose())"
   ]
  },
  {
   "cell_type": "code",
   "execution_count": 70,
   "metadata": {},
   "outputs": [
    {
     "data": {
      "text/html": [
       "<div>\n",
       "<style scoped>\n",
       "    .dataframe tbody tr th:only-of-type {\n",
       "        vertical-align: middle;\n",
       "    }\n",
       "\n",
       "    .dataframe tbody tr th {\n",
       "        vertical-align: top;\n",
       "    }\n",
       "\n",
       "    .dataframe thead th {\n",
       "        text-align: right;\n",
       "    }\n",
       "</style>\n",
       "<table border=\"1\" class=\"dataframe\">\n",
       "  <thead>\n",
       "    <tr style=\"text-align: right;\">\n",
       "      <th></th>\n",
       "      <th>0</th>\n",
       "    </tr>\n",
       "  </thead>\n",
       "  <tbody>\n",
       "    <tr>\n",
       "      <th>count</th>\n",
       "      <td>20.000000</td>\n",
       "    </tr>\n",
       "    <tr>\n",
       "      <th>mean</th>\n",
       "      <td>45.909550</td>\n",
       "    </tr>\n",
       "    <tr>\n",
       "      <th>std</th>\n",
       "      <td>10.746502</td>\n",
       "    </tr>\n",
       "    <tr>\n",
       "      <th>min</th>\n",
       "      <td>18.182000</td>\n",
       "    </tr>\n",
       "    <tr>\n",
       "      <th>25%</th>\n",
       "      <td>36.364000</td>\n",
       "    </tr>\n",
       "    <tr>\n",
       "      <th>50%</th>\n",
       "      <td>52.727800</td>\n",
       "    </tr>\n",
       "    <tr>\n",
       "      <th>75%</th>\n",
       "      <td>54.546000</td>\n",
       "    </tr>\n",
       "    <tr>\n",
       "      <th>max</th>\n",
       "      <td>56.364200</td>\n",
       "    </tr>\n",
       "  </tbody>\n",
       "</table>\n",
       "</div>"
      ],
      "text/plain": [
       "               0\n",
       "count  20.000000\n",
       "mean   45.909550\n",
       "std    10.746502\n",
       "min    18.182000\n",
       "25%    36.364000\n",
       "50%    52.727800\n",
       "75%    54.546000\n",
       "max    56.364200"
      ]
     },
     "execution_count": 70,
     "metadata": {},
     "output_type": "execute_result"
    }
   ],
   "source": [
    "df.describe()"
   ]
  },
  {
   "cell_type": "code",
   "execution_count": null,
   "metadata": {},
   "outputs": [],
   "source": []
  }
 ],
 "metadata": {
  "kernelspec": {
   "display_name": "Python 3",
   "language": "python",
   "name": "python3"
  },
  "language_info": {
   "codemirror_mode": {
    "name": "ipython",
    "version": 3
   },
   "file_extension": ".py",
   "mimetype": "text/x-python",
   "name": "python",
   "nbconvert_exporter": "python",
   "pygments_lexer": "ipython3",
   "version": "3.6.6"
  }
 },
 "nbformat": 4,
 "nbformat_minor": 2
}
