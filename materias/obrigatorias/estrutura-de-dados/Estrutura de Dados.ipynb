{
 "cells": [
  {
   "cell_type": "markdown",
   "metadata": {},
   "source": [
    "<img src=http://eic.cefet-rj.br/portal/wp-content/uploads/2015/10/EIC.png width=\"250\">\n",
    "\n",
    "<h2><center>Algoritmos e Estrutura de Dados em C / C++</center></h2>\n",
    "\n",
    "- CEFET/RJ - Campus Maracanã\n",
    "\n",
    "-  Profª Myrna Amorim\n",
    "\n",
    "-  Data: 04/10/2018"
   ]
  },
  {
   "cell_type": "markdown",
   "metadata": {},
   "source": [
    "### 0. Revisando vetores, strings e matrizes"
   ]
  },
  {
   "cell_type": "markdown",
   "metadata": {},
   "source": [
    "```c++\n",
    "#include <stdlib.h>\n",
    "#include <stdio.h>\n",
    "\n",
    "int main(){\n",
    "    \n",
    "    // Declarando um vetor\n",
    "    int vetor[5];\n",
    "    \n",
    "    // Explorando as posições do vetor com valores\n",
    "    vetor[0] = 1, vetor[1] = 2, vetor[2] = 3, vetor[3] = 4, vetor[4] = 5;\n",
    "    \n",
    "    // Imprimindo as posições e valores dos vetores\n",
    "    for( int i = 0, i < 5, i++){\n",
    "        printf(\"\\nNa posição %d do vetor temos o valor %d\\n\", i, vetor[i]);\n",
    "    }\n",
    "    \n",
    "    // Adicionando 1 para uma valor dentro de alguma posição do vetor\n",
    "    int x;\n",
    "    scanf(\"%d\", &x);\n",
    "    vetor[x] += 1;\n",
    "    \n",
    "    // Imprimindo o novo vetor\n",
    "    printf(\"O novo vetor é vetor[%d] igual %d\", x, vetor[x]);\n",
    "}\n",
    "````\n"
   ]
  },
  {
   "cell_type": "markdown",
   "metadata": {},
   "source": [
    "### 0.0.1 Sobre vetores"
   ]
  },
  {
   "cell_type": "code",
   "execution_count": null,
   "metadata": {},
   "outputs": [],
   "source": []
  },
  {
   "cell_type": "markdown",
   "metadata": {},
   "source": [
    "### 0.1 Construindo strings com C"
   ]
  },
  {
   "cell_type": "markdown",
   "metadata": {},
   "source": [
    "```c++\n",
    "#include <stdio.h>\n",
    "#include <stdlib.h>\n",
    "\n",
    "int main(){\n",
    "    \n",
    "    /* Declarando a variável char como um vetor palavra, um vetor de 255 letras \n",
    "    no domínio dos char */\n",
    "    \n",
    "    char palavra[255];\n",
    "    \n",
    "    // Instrução ao usuário\n",
    "    \n",
    "    printf(\"Digite uma palavra:\");\n",
    "    \n",
    "    /* Limpando o buffer, é um local de memória temporário que armazena comandos\n",
    "    de input ou output, para armazenar uma string, gerar devemos botar o buffer \n",
    "    como se não tivesse tido nenhum input até então. */\n",
    "    \n",
    "    setbuf(stdin, 0);\n",
    "    \n",
    "    /* Ler a string, file get. string, a representação na memória da string,\n",
    "    tamanho, e método de entrada. */\n",
    "    \n",
    "    fgets(palavra, 255, stdin); \n",
    "    \n",
    "    /* Se a string inputada era menor que 255 caracteres, pode ser conveniente,\n",
    "    para não gastar memória excessiva, retirar o excesso de caracteres reservados\n",
    "    na memória, associando ao n+1, sendo n a quantidade\n",
    "    de char usadas no input, o comando \\0, que diz para o compilador terminar o vetor\n",
    "    naquele local, e liberar o resto da memória. */\n",
    "    \n",
    "    palavra[ strlen(palavra) - 1 ] = '\\0'\n",
    "    \n",
    "    // Imprimir na tela\n",
    "    \n",
    "    printf(\"A palavra é %s.\", palavra);\n",
    "    \n",
    "    system(\"pause\");\n",
    "    \n",
    "    return 0;\n",
    "}\n",
    "```"
   ]
  },
  {
   "cell_type": "markdown",
   "metadata": {},
   "source": [
    "### 0.2. Construindo strings com C++"
   ]
  },
  {
   "cell_type": "markdown",
   "metadata": {},
   "source": [
    "```c++\n",
    "#include <iostream>\n",
    "#include <string>\n",
    "\n",
    "// Já inclui automaticamente o std:: que ficaria na frente de string, cin, cout\n",
    "using namespace std;\n",
    "\n",
    "int main(){\n",
    "    \n",
    "    string palavra;\n",
    "    \n",
    "    cout << \"Digite uma palavra: \\n\";\n",
    "    \n",
    "    cin >> palavra;\n",
    "    \n",
    "    cout << palavra << \"\\n\";\n",
    "    \n",
    "    system(\"pause\");\n",
    "    \n",
    "    return 0;\n",
    "}\n",
    "```"
   ]
  },
  {
   "cell_type": "markdown",
   "metadata": {},
   "source": [
    "### 0.3 Contruindo matrizes em C++"
   ]
  },
  {
   "cell_type": "code",
   "execution_count": null,
   "metadata": {},
   "outputs": [],
   "source": [
    "#include <iostream>\n",
    "#include <string>\n",
    "\n",
    "using namespace std;\n",
    "\n",
    "int main(){\n",
    "    \n",
    "    // Definindo a matriz, primeiro o domínio, depois linhas e colunas no [][].\n",
    "    int matriz[3][4]\n",
    "    \n",
    "    // Criada a matriz 3x4, como associariamos a ela valores?\n",
    "    for( int i = 0; i < 3; i++){\n",
    "        for ( int j = 0, j < 4; j++){\n",
    "            cin >> matriz[i][j];\n",
    "        }\n",
    "    }\n",
    "    \n",
    "    // Imprimindo os valores\n",
    "    \n",
    "    for( int i = 0; i < 3; i++){\n",
    "        for ( int j = 0, j < 4; j++){\n",
    "            cout << \"  \" << matriz[i][j];\n",
    "        }\n",
    "        cout << \"\\n\"\n",
    "    }\n",
    "    \n",
    "    return 0;   \n",
    "}"
   ]
  },
  {
   "cell_type": "markdown",
   "metadata": {},
   "source": [
    "### 1. Ponteiros"
   ]
  },
  {
   "cell_type": "code",
   "execution_count": null,
   "metadata": {},
   "outputs": [],
   "source": [
    "#include <iostream>\n",
    "#include <stdio.h>\n",
    "#include <stdlib.h>\n",
    "#include <string>\n",
    "\n",
    "using namespace std;\n",
    "\n",
    "int main(){\n",
    "    \n",
    "    //Declarando uma variável\n",
    "    int a = 20;\n",
    "    \n",
    "    //Imprimindo o valor da variável\n",
    "    printf(\"Variavel %d\", a);\n",
    "    \n",
    "    //Lendo o valor de uma variável\n",
    "    scanf(\"%d\", &a);\n",
    "    \n",
    "    //Imprimindo o endereço da variável\n",
    "    printf(\"Endereço é %\", &a);\n",
    "    \n",
    "    // Declarando um ponteiro, armazena um endereço de memória\n",
    "    \n",
    "    int *ponteiro;\n",
    "    \n",
    "    // Associando o ponteiro a um espaço de memória\n",
    "    \n",
    "    ponteiro = &a\n",
    "    \n",
    "    /*\n",
    "    \n",
    "       No caso, *(&a) é igual à a, por que é como se pegassemos o conteúdo\n",
    "    do endereço correspondente ao a, que representamos como o proprio a.\n",
    "       A idéia do asteristico (*) é que ele está associado ao int, como se o \n",
    "    domínio fosse o domínio dos endereços de memória do tipo int, onde \n",
    "    a variável ponteiro agora pode armazenar um endereço, o tipo dela é um\n",
    "    endereço, não é uma string, nem um float, nem um int, mas um endereço. \n",
    "    Quando aplicamos (*) no int de novo é como se estivessemos indo mais\n",
    "    aprofundado no endereço, no caso no conteúdo dele, que é a.\n",
    "    \n",
    "    */\n",
    "}"
   ]
  },
  {
   "cell_type": "markdown",
   "metadata": {},
   "source": [
    "### 2.0 Funções com parâmetros"
   ]
  },
  {
   "cell_type": "code",
   "execution_count": null,
   "metadata": {},
   "outputs": [],
   "source": [
    "#include <stdlib.h>\n",
    "#include <stdio.h>\n",
    "\n",
    "int sucessor(int n){\n",
    "    return n+1;\n",
    "}\n",
    "\n",
    "int main(){\n",
    "    \n",
    "    // Definindo variáveis e a função com parâmetro\n",
    "    int a;\n",
    "    \n",
    "    scanf(\"%d\",&a);\n",
    "    \n",
    "    int b = sucessor(a);\n",
    "    \n",
    "    printf(\"O sucessor de %d é %d.\", a, b);\n",
    "    \n",
    "    return 0;\n",
    "}"
   ]
  },
  {
   "cell_type": "markdown",
   "metadata": {},
   "source": [
    "### 2.1 Funções com mais de um parâmetro"
   ]
  },
  {
   "cell_type": "code",
   "execution_count": null,
   "metadata": {},
   "outputs": [],
   "source": [
    "#include <stdlib.h>\n",
    "#include <stdio.h>\n",
    "\n",
    "int soma(int x, int y){\n",
    "    return (x + y);\n",
    "}\n",
    "\n",
    "int main(){\n",
    "    \n",
    "    //Declarando variáveis e seus valores\n",
    "    int a = 10, b = 5;\n",
    "    \n",
    "    c = soma(a, b)\n",
    "    \n",
    "    printf(\"\\nA soma de %d e %d é %d.\\n\", a, b, c);\n",
    "    \n",
    "    return 0;\n",
    "}"
   ]
  },
  {
   "cell_type": "markdown",
   "metadata": {},
   "source": [
    "### 2.2 *IMPORTANTE*: Funções com ponteiro e referência como parâmetro"
   ]
  },
  {
   "cell_type": "code",
   "execution_count": null,
   "metadata": {},
   "outputs": [],
   "source": [
    "#include <stdlib.h>\n",
    "#include <stdio.h>\n",
    "\n",
    "int somaDez( int n ){\n",
    "    return n + 10; \n",
    "}\n",
    "\n",
    "void somaDezNoProprioEnderecodaVariavel(int *n){\n",
    "    n += 10;    \n",
    "}\n",
    "\n",
    "int main(){\n",
    "    \n",
    "    // Declarando variáveis\n",
    "    int a;\n",
    "    \n",
    "    // Associando valor a variável\n",
    "    \n",
    "    scanf(\"%d\", &a);\n",
    "    \n",
    "    // Imprimindo a variável\n",
    "    \n",
    "    printf(\"A variável a é %d.\", a);\n",
    "    \n",
    "    // A soma\n",
    "    \n",
    "    printf(\"A soma do número %d mais 10 é %d.\", a, somaDez(a));\n",
    "    \n",
    "    /* A soma no próprio endereco ( vao dar respostas iguais por na de cima só passou\n",
    "                                  uma copia para somaDez() e não alterou o a em si. */\n",
    "    \n",
    "    somaDezNoProprioEnderecodaVariavel(&a);\n",
    "    printf(\"A soma do número a mais 10 é %d.\", a);\n",
    "    \n",
    "    \n",
    "    return 0;\n",
    "    \n",
    "}"
   ]
  },
  {
   "cell_type": "markdown",
   "metadata": {},
   "source": [
    "A 1ª funcão definida para ser usada tem como parâmetro um int **n*, e a segunda tem int n, a diferença entre elas no uso é que, na primeira o argumento é um endereço de memória, e na segunda é um inteiro n que está associado a função no espaço de memória que ela fora alocada. A diferença é que na segunda, se associamos a n uma variável, ela não vai mudar a variável, por que o n está em outro local da memória, e essa variável em outra, o que é feito é associar a n a variável, e não mudar a variável. Diferente da primeira função, por que recebendo o endereço da variável, ela recebe a cópia do endereço, mas a cópia do endereço não é outro lugar da variável, é o próprio local dela, ou seja, alterando ela pelo seu endereço, é possível alterar ela, através da cópia do seu endereço."
   ]
  },
  {
   "cell_type": "markdown",
   "metadata": {},
   "source": [
    "### 3.0 Listas estáticas\n",
    "\n",
    "1. O motivo pelo qual arrays são especiais é que o acesso aos seus elementos é em tempo constante, para ler e escrever. \n",
    "\n",
    "São areas de memória continguas, seria uma lista estática.\n",
    "\n",
    "Sobre eficiencia, em arrays seu tempo de acesso pararemover e adicionar no final do array é rápido O(1), mas no começo e no meio é de ordem O(n).\n",
    "\n",
    "2. Listas simplementes encadeadas:\n",
    "\n"
   ]
  },
  {
   "cell_type": "code",
   "execution_count": null,
   "metadata": {},
   "outputs": [],
   "source": []
  }
 ],
 "metadata": {
  "kernelspec": {
   "display_name": "Python 3",
   "language": "python",
   "name": "python3"
  },
  "language_info": {
   "codemirror_mode": {
    "name": "ipython",
    "version": 3
   },
   "file_extension": ".py",
   "mimetype": "text/x-python",
   "name": "python",
   "nbconvert_exporter": "python",
   "pygments_lexer": "ipython3",
   "version": "3.6.6"
  }
 },
 "nbformat": 4,
 "nbformat_minor": 2
}
